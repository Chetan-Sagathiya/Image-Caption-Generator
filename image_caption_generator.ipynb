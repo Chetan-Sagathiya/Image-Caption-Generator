{
  "nbformat": 4,
  "nbformat_minor": 0,
  "metadata": {
    "colab": {
      "name": "image-caption-generator.ipynb",
      "provenance": [],
      "collapsed_sections": []
    },
    "kernelspec": {
      "name": "python3",
      "display_name": "Python 3"
    }
  },
  "cells": [
    {
      "cell_type": "code",
      "metadata": {
        "id": "GzZ3mUUmuuZ1"
      },
      "source": [
        "import string\r\n",
        "\r\n",
        "# loading file and returning captions.\r\n",
        "def load_file(filename):\r\n",
        "  file = open(filename, 'r')\r\n",
        "  captions = file.read()\r\n",
        "  file.close()\r\n",
        "  return captions\r\n",
        "\r\n",
        "# extractig image descriptions or captions from file or captions\r\n",
        "def load_captions(captions):\r\n",
        "  i= 0 \r\n",
        "  mapping = dict()\r\n",
        "  #splitting each captions with \\n\r\n",
        "  for line in captions.split('\\n'):\r\n",
        "    #making list of line via spliting it with whitespace\r\n",
        "    caption = line.split()\r\n",
        "    if len(line) < 2:\r\n",
        "      continue\r\n",
        "    # taking first item as image_id and others as captions \r\n",
        "    image_id, image_desc = caption[0], caption[1:]\r\n",
        "    #removing .jpg from image_id\r\n",
        "    image_id = image_id.split('.')[0]\r\n",
        "    # converting back splitted captions back to sentence.\r\n",
        "    image_desc = ' '.join(image_desc)\r\n",
        "    # creating list if not already created\r\n",
        "    if image_id not in mapping:\r\n",
        "      mapping[image_id] = list()\r\n",
        "    mapping[image_id].append(image_desc)\r\n",
        "  return mapping\r\n",
        "\r\n",
        "import re\r\n",
        "# cleaning caption or descriptions\r\n",
        "def clean_description(captions):\r\n",
        "  # looping over keys and captions list\r\n",
        "  for key, caption_list in captions.items():\r\n",
        "    # iterating over each captions\r\n",
        "    for i in range(len(caption_list)):\r\n",
        "      # iterating over each captions in list\r\n",
        "      caption = caption_list[i]\r\n",
        "      caption = caption.split()\r\n",
        "      # removing all symbols, special characters, etc except a-z\r\n",
        "      caption = [re.sub(r\"[^a-zA-Z]+\", ' ', word) for word in caption]\r\n",
        "      #lowering all the words\r\n",
        "      caption = [word.lower() for word in caption]\r\n",
        "      # removing single characters\r\n",
        "      caption = [word for word in caption if len(word)>1]\r\n",
        "      #joining all the caption\r\n",
        "      caption_list[i] = ' '.join(caption)\r\n",
        "\r\n",
        "# creating vocabulary of word in captions\r\n",
        "def create_vocabulary(captions):\r\n",
        "  all_desc = set()\r\n",
        "  for key in captions.keys():\r\n",
        "    [all_desc.update(c.split()) for c in captions[key]]\r\n",
        "  return all_desc\r\n",
        "\r\n",
        "# save descriptions to file, one per line\r\n",
        "def save_descriptions(descriptions, filename):\r\n",
        "\tlines = list()\r\n",
        "\tfor key, captions_list in descriptions.items():\r\n",
        "\t\tfor desc in captions_list:\r\n",
        "\t\t\tlines.append(key + ' ' + desc)\r\n",
        "\tdata = '\\n'.join(lines)\r\n",
        "\tfile = open(filename, 'w')\r\n",
        "\tfile.write(data)\r\n",
        "\tfile.close()"
      ],
      "execution_count": 118,
      "outputs": []
    },
    {
      "cell_type": "code",
      "metadata": {
        "colab": {
          "base_uri": "https://localhost:8080/"
        },
        "id": "g3HD7fr4IRi8",
        "outputId": "9d23cea7-3667-46ab-a6b0-d2bd38254c1e"
      },
      "source": [
        "# loading file\r\n",
        "file_name = filename = '/content/drive/MyDrive/Dataset/captions.txt'\r\n",
        "doc = load_file(file_name)\r\n",
        "print(\"file loaded...\")\r\n",
        "\r\n",
        "#loading descriptions\r\n",
        "descriptions = load_captions(doc)\r\n",
        "print(\"length of descriptions is \", len(descriptions))\r\n",
        "\r\n",
        "#cleaning descriptions\r\n",
        "clean_description(descriptions)\r\n",
        "print(\"clean descriptions done...\")\r\n",
        "\r\n",
        "#creating vocabulary\r\n",
        "vocabulary = create_vocabulary(descriptions)\r\n",
        "print(\" length of  vocabulary is \", len(vocabulary))\r\n",
        "\r\n",
        "# mapping and saving vocabulary\r\n",
        "save_descriptions(descriptions, 'description.txt')\r\n"
      ],
      "execution_count": 119,
      "outputs": [
        {
          "output_type": "stream",
          "text": [
            "file loaded...\n",
            "length of descriptions is  8092\n",
            "clean descriptions done...\n",
            " length of  vocabulary is  8358\n"
          ],
          "name": "stdout"
        }
      ]
    },
    {
      "cell_type": "code",
      "metadata": {
        "id": "BC0OZXkHJmuS"
      },
      "source": [
        ""
      ],
      "execution_count": null,
      "outputs": []
    }
  ]
}